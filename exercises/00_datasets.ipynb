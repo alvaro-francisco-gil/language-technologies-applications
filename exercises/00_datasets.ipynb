{
 "cells": [
  {
   "cell_type": "code",
   "execution_count": 1,
   "metadata": {},
   "outputs": [],
   "source": [
    "from datasets import load_dataset"
   ]
  },
  {
   "cell_type": "markdown",
   "metadata": {},
   "source": [
    "# Binary"
   ]
  },
  {
   "cell_type": "code",
   "execution_count": 24,
   "metadata": {},
   "outputs": [
    {
     "name": "stdout",
     "output_type": "stream",
     "text": [
      "Available splits: dict_keys(['train', 'validation'])\n",
      "Training set size: (9427, 3)\n",
      "Validation set size: (3270, 3)\n",
      "\n",
      "Example data point:\n"
     ]
    },
    {
     "data": {
      "text/plain": [
       "{'question': 'do iran and afghanistan speak the same language',\n",
       " 'answer': True,\n",
       " 'passage': 'Persian (/ˈpɜːrʒən, -ʃən/), also known by its endonym Farsi (فارسی fārsi (fɒːɾˈsiː) ( listen)), is one of the Western Iranian languages within the Indo-Iranian branch of the Indo-European language family. It is primarily spoken in Iran, Afghanistan (officially known as Dari since 1958), and Tajikistan (officially known as Tajiki since the Soviet era), and some other regions which historically were Persianate societies and considered part of Greater Iran. It is written in the Persian alphabet, a modified variant of the Arabic script, which itself evolved from the Aramaic alphabet.'}"
      ]
     },
     "execution_count": 24,
     "metadata": {},
     "output_type": "execute_result"
    }
   ],
   "source": [
    "boolq = load_dataset(\"boolq\")\n",
    "\n",
    "print(f\"Available splits: {boolq.keys()}\")\n",
    "print(f\"Training set size: {boolq['train'].shape}\")\n",
    "print(f\"Validation set size: {boolq['validation'].shape}\")\n",
    "\n",
    "print(\"\\nExample data point:\")\n",
    "boolq[\"train\"][0]"
   ]
  },
  {
   "cell_type": "code",
   "execution_count": 25,
   "metadata": {},
   "outputs": [
    {
     "name": "stdout",
     "output_type": "stream",
     "text": [
      "Available splits: dict_keys(['train', 'validation'])\n",
      "Training set size: (130319, 5)\n",
      "Validation set size: (11873, 5)\n",
      "\n",
      "Example data point:\n"
     ]
    },
    {
     "data": {
      "text/plain": [
       "{'id': '56be85543aeaaa14008c9063',\n",
       " 'title': 'Beyoncé',\n",
       " 'context': 'Beyoncé Giselle Knowles-Carter (/biːˈjɒnseɪ/ bee-YON-say) (born September 4, 1981) is an American singer, songwriter, record producer and actress. Born and raised in Houston, Texas, she performed in various singing and dancing competitions as a child, and rose to fame in the late 1990s as lead singer of R&B girl-group Destiny\\'s Child. Managed by her father, Mathew Knowles, the group became one of the world\\'s best-selling girl groups of all time. Their hiatus saw the release of Beyoncé\\'s debut album, Dangerously in Love (2003), which established her as a solo artist worldwide, earned five Grammy Awards and featured the Billboard Hot 100 number-one singles \"Crazy in Love\" and \"Baby Boy\".',\n",
       " 'question': 'When did Beyonce start becoming popular?',\n",
       " 'answers': {'text': ['in the late 1990s'], 'answer_start': [269]}}"
      ]
     },
     "execution_count": 25,
     "metadata": {},
     "output_type": "execute_result"
    }
   ],
   "source": [
    "squad = load_dataset(\"squad_v2\")\n",
    "\n",
    "print(f\"Available splits: {squad.keys()}\")\n",
    "print(f\"Training set size: {squad['train'].shape}\")\n",
    "print(f\"Validation set size: {squad['validation'].shape}\")\n",
    "\n",
    "print(\"\\nExample data point:\")\n",
    "squad[\"train\"][0]"
   ]
  },
  {
   "cell_type": "code",
   "execution_count": null,
   "metadata": {},
   "outputs": [
    {
     "name": "stdout",
     "output_type": "stream",
     "text": [
      "Available splits: dict_keys(['train', 'validation', 'test'])\n",
      "Training set size: (30000, 6)\n",
      "Validation set size: (3000, 6)\n",
      "Test set size: (3000, 6)\n",
      "\n",
      "Example data point:\n"
     ]
    },
    {
     "data": {
      "text/plain": [
       "{'id': '7ba1e8f4261d3170fcf42e84a81dd749116fae95',\n",
       " 'title': 'Brain',\n",
       " 'context': 'Another approach to brain function is to examine the consequences of damage to specific brain areas. Even though it is protected by the skull and meninges, surrounded by cerebrospinal fluid, and isolated from the bloodstream by the blood–brain barrier, the delicate nature of the brain makes it vulnerable to numerous diseases and several types of damage. In humans, the effects of strokes and other types of brain damage have been a key source of information about brain function. Because there is no ability to experimentally control the nature of the damage, however, this information is often difficult to interpret. In animal studies, most commonly involving rats, it is possible to use electrodes or locally injected chemicals to produce precise patterns of damage and then examine the consequences for behavior.',\n",
       " 'question': 'What sare the benifts of the blood brain barrir?',\n",
       " 'answers': {'text': ['isolated from the bloodstream'], 'answer_start': [195]},\n",
       " 'metadata': {'split': 'train', 'model_in_the_loop': 'Combined'}}"
      ]
     },
     "execution_count": 26,
     "metadata": {},
     "output_type": "execute_result"
    }
   ],
   "source": [
    "adversarial_qa = load_dataset(\"adversarial_qa\", \"adversarialQA\")\n",
    "\n",
    "print(f\"Available splits: {adversarial_qa.keys()}\")\n",
    "print(f\"Training set size: {adversarial_qa['train'].shape}\")\n",
    "print(f\"Validation set size: {adversarial_qa['validation'].shape}\")\n",
    "print(f\"Test set size: {adversarial_qa['test'].shape}\")\n",
    "\n",
    "print(\"\\nExample data point:\")\n",
    "adversarial_qa[\"train\"][0]"
   ]
  },
  {
   "cell_type": "code",
   "execution_count": 30,
   "metadata": {},
   "outputs": [
    {
     "name": "stdout",
     "output_type": "stream",
     "text": [
      "Test set size: (4326, 3)\n",
      "\n",
      "Example data point:\n"
     ]
    },
    {
     "data": {
      "text/plain": [
       "{'metadata': \"{'topic': 'Science and technology', 'answer_type': 'Person', 'urls': ['https://en.wikipedia.org/wiki/IEEE_Frank_Rosenblatt_Award', 'https://ieeexplore.ieee.org/author/37271220500', 'https://en.wikipedia.org/wiki/IEEE_Frank_Rosenblatt_Award', 'https://www.nxtbook.com/nxtbooks/ieee/awards_2010/index.php?startid=21#/p/20']}\",\n",
       " 'problem': 'Who received the IEEE Frank Rosenblatt Award in 2010?',\n",
       " 'answer': 'Michio Sugeno'}"
      ]
     },
     "execution_count": 30,
     "metadata": {},
     "output_type": "execute_result"
    }
   ],
   "source": [
    "dataset = load_dataset(\"basicv8vc/SimpleQA\")\n",
    "\n",
    "print(f\"Test set size: {dataset['test'].shape}\")\n",
    "\n",
    "print(\"\\nExample data point:\")\n",
    "dataset[\"test\"][0]"
   ]
  },
  {
   "cell_type": "code",
   "execution_count": 33,
   "metadata": {},
   "outputs": [
    {
     "name": "stdout",
     "output_type": "stream",
     "text": [
      "Available splits: dict_keys(['train', 'test'])\n",
      "Training set size: (3778, 3)\n",
      "Test set size: (2032, 3)\n",
      "\n",
      "Example data point:\n"
     ]
    },
    {
     "data": {
      "text/plain": [
       "{'url': 'http://www.freebase.com/view/en/justin_bieber',\n",
       " 'question': 'what is the name of justin bieber brother?',\n",
       " 'answers': ['Jazmyn Bieber', 'Jaxon Bieber']}"
      ]
     },
     "execution_count": 33,
     "metadata": {},
     "output_type": "execute_result"
    }
   ],
   "source": [
    "webquestions = load_dataset(\"web_questions\")\n",
    "\n",
    "print(f\"Available splits: {webquestions.keys()}\")\n",
    "print(f\"Training set size: {webquestions['train'].shape}\")\n",
    "print(f\"Test set size: {webquestions['test'].shape}\")\n",
    "\n",
    "print(\"\\nExample data point:\")\n",
    "webquestions[\"train\"][0]\n"
   ]
  },
  {
   "cell_type": "markdown",
   "metadata": {},
   "source": [
    "# Graded"
   ]
  },
  {
   "cell_type": "code",
   "execution_count": 35,
   "metadata": {},
   "outputs": [],
   "source": [
    "# judge_lm = load_dataset(\"BAAI/JudgeLM-data-collection-v1.0\")\n",
    "# api doesnt work"
   ]
  },
  {
   "cell_type": "code",
   "execution_count": 36,
   "metadata": {},
   "outputs": [
    {
     "data": {
      "application/vnd.jupyter.widget-view+json": {
       "model_id": "16e3ac8ea4b44635b0799c47d95c2aa3",
       "version_major": 2,
       "version_minor": 0
      },
      "text/plain": [
       "README.md:   0%|          | 0.00/2.70k [00:00<?, ?B/s]"
      ]
     },
     "metadata": {},
     "output_type": "display_data"
    },
    {
     "data": {
      "application/vnd.jupyter.widget-view+json": {
       "model_id": "dff31a1647ac43399e36d4c16e26a681",
       "version_major": 2,
       "version_minor": 0
      },
      "text/plain": [
       "claude-00000-of-00001.jsonl:   0%|          | 0.00/920k [00:00<?, ?B/s]"
      ]
     },
     "metadata": {},
     "output_type": "display_data"
    },
    {
     "data": {
      "application/vnd.jupyter.widget-view+json": {
       "model_id": "485f5cf68e854dca8e78115283567e94",
       "version_major": 2,
       "version_minor": 0
      },
      "text/plain": [
       "gpt-00000-of-00001.jsonl:   0%|          | 0.00/1.96M [00:00<?, ?B/s]"
      ]
     },
     "metadata": {},
     "output_type": "display_data"
    },
    {
     "data": {
      "application/vnd.jupyter.widget-view+json": {
       "model_id": "0b73d2fdd1ce4564ab0d255cec549bcb",
       "version_major": 2,
       "version_minor": 0
      },
      "text/plain": [
       "Generating claude split:   0%|          | 0/270 [00:00<?, ? examples/s]"
      ]
     },
     "metadata": {},
     "output_type": "display_data"
    },
    {
     "data": {
      "application/vnd.jupyter.widget-view+json": {
       "model_id": "1c43b45785894c48a13b14eae410b5d8",
       "version_major": 2,
       "version_minor": 0
      },
      "text/plain": [
       "Generating gpt split:   0%|          | 0/350 [00:00<?, ? examples/s]"
      ]
     },
     "metadata": {},
     "output_type": "display_data"
    }
   ],
   "source": [
    "from datasets import load_dataset\n",
    "gpt_data = load_dataset(\"ScalerLab/JudgeBench\", split=\"gpt\")\n",
    "claude_data = load_dataset(\"ScalerLab/JudgeBench\", split=\"claude\")"
   ]
  },
  {
   "cell_type": "code",
   "execution_count": 40,
   "metadata": {},
   "outputs": [
    {
     "name": "stdout",
     "output_type": "stream",
     "text": [
      "Available features: {'pair_id': Value(dtype='string', id=None), 'original_id': Value(dtype='int64', id=None), 'source': Value(dtype='string', id=None), 'question': Value(dtype='string', id=None), 'response_model': Value(dtype='string', id=None), 'response_A': Value(dtype='string', id=None), 'response_B': Value(dtype='string', id=None), 'label': Value(dtype='string', id=None)}\n",
      "\n",
      "First data point:\n"
     ]
    },
    {
     "data": {
      "text/plain": [
       "{'pair_id': 'e302b0a0-28d5-5a3c-b1af-fedcf5543e72',\n",
       " 'original_id': 1420,\n",
       " 'source': 'mmlu-pro-law',\n",
       " 'question': \"A college student initiated a criminal case against his former roommate, claiming the former roommate snuck in and removed his state-of-the-art home theater equipment from his house. The college student took the complaint papers that were approved by the prosecution and filed them with a magistrate court. An ongoing police investigation later determined, however, that the college student was a vengeful person not averse to creating stories, and that he and the former roommate had been arguing over several related issues. They also determined that he never had any quality sound or video equipment. The police dropped the prosecution, and the criminal case was dismissed at the preliminary hearing. When the former roommate filed a civil case against the college student alleging the tort of malicious prosecution, will evidence of the student's reputation for dishonesty be admissible and why?\\n(A) Yes, because the student's reputation for dishonesty directly relates to the tort of malicious prosecution.\\n(B) No, because reputation evidence is considered too prejudicial to be admissible.\\n(C) Yes, because dishonesty at any time in the past is always relevant to a malicious prosecution complaint.\\n(D) Yes, because the student's dishonesty directly affects the credibility of his initial criminal complaint.\\n(E) Yes, because reputation evidence, just like most character evidence, is virtually always admissible.\\n(F) Yes, because even though character evidence is too collateral to be admitted for circumstantial evidence, it is admissible if it is directly at issue in the case.\\n(G) No, because character evidence is only admissible if it is directly related to the act in question.\\n(H) No, because the past reputation of a person is not considered as evidence in court.\\n(I) Yes, because while most character evidence is not admissible, some is, and reputation evidence is always admissible.\\n(J) No, because character evidence is never admissible in any case.\\nIf you cannot determine the correct multiple-choice answer, take your best guess. Once you have your answer, please duplicate that letter five times in a single string. For example, if the answer is K, then write KKKKK.\\nLet's think step by step.\",\n",
       " 'response_model': 'gpt-4o-2024-05-13',\n",
       " 'response_A': 'To determine if evidence of the student\\'s reputation for dishonesty is admissible in a claim of malicious prosecution, we need to consider several legal principles, especially those concerning character evidence and its relevance.\\n\\n1. **Relevance to Malicious Prosecution**:\\n   - Malicious prosecution involves proving that the defendant initiated a legal action without probable cause and with malice. Evidence suggesting the initiator\\'s dishonesty could help show the lack of probable cause and the element of malice.\\n\\n2. **General Rules on Character Evidence**:\\n   - Generally, character evidence (reputation, opinion, or specific instances of conduct) is not admissible to prove conduct on a particular occasion (Federal Rules of Evidence 404(a)).\\n   - There are exceptions where character evidence is admissible, typically in cases where character itself is an essential element of a claim or defense (e.g., defamation, negligent hiring, etc.).\\n\\n3. **Specific to Malicious Prosecution**:\\n   - For malicious prosecution, the plaintiff would need to show that the college student acted with malice in initiating the criminal case.\\n   - The student\\'s reputation for dishonesty is relevant to understanding whether the student acted with malice or fabricated the entire situation.\\n\\nAnalyzing the options step-by-step:\\n\\n(A) Yes, because the student\\'s reputation for dishonesty directly relates to the tort of malicious prosecution.\\n   - This is a strong consideration since dishonesty could indicate malice and lack of probable cause.\\n\\n(B) No, because reputation evidence is considered too prejudicial to be admissible.\\n   - While reputation evidence can be prejudicial, it is not an absolute bar, especially when the character is a pertinent element.\\n\\n(C) Yes, because dishonesty at any time in the past is always relevant to a malicious prosecution complaint.\\n   - The phrase \"always relevant\" is too broad and may be misleading.\\n\\n(D) Yes, because the student\\'s dishonesty directly affects the credibility of his initial criminal complaint.\\n   - This is true, but it should focus on relevance to the malicious prosecution claim rather than just general credibility.\\n\\n(E) Yes, because reputation evidence, just like most character evidence, is virtually always admissible.\\n   - Incorrect, as most character evidence rules say it is generally not admissible unless specific exceptions apply.\\n\\n(F) Yes, because even though character evidence is too collateral to be admitted for circumstantial evidence, it is admissible if it is directly at issue in the case.\\n   - This correctly addresses that character is directly at issue in the case of malicious prosecution.\\n\\n(G) No, because character evidence is only admissible if it is directly related to the act in question.\\n   - This is correct but incomplete in understanding how the student\\'s character for dishonesty specifically relates to malice and the claim.\\n\\n(H) No, because the past reputation of a person is not considered as evidence in court.\\n   - Incorrect, past reputation can be considered where it is directly related to the issues of the case.\\n\\n(I) Yes, because while most character evidence is not admissible, some is, and reputation evidence is always admissible.\\n   - Incorrect, not always admissible.\\n\\n(J) No, because character evidence is never admissible in any case.\\n   - Incorrect, as there are specific contexts in which it is admissible.\\n\\nThe best-balanced reasoning aligns with choice (F), as it clearly states that when character is directly at issue, such as in a malicious prosecution claim, it becomes admissible.\\n\\nHence my answer is:\\nFFFFF',\n",
       " 'response_B': \"To determine whether the former roommate can use evidence of the college student's reputation for dishonesty in his civil case for malicious prosecution, we need to consider rules of admissibility of character evidence, especially reputation evidence, in the context of a civil lawsuit.\\n\\n1. **Understand the nature of the civil lawsuit**:\\n   - The case is about malicious prosecution, which involves proving that the defendant (college student) initiated an unjust legal proceeding with malice and without probable cause.\\n\\n2. **Evaluate the rules of evidence for character/reputation**:\\n   - In legal proceedings, character evidence is generally inadmissible to prove that a person acted in accordance with that character on a specific occasion.\\n   - However, character evidence can be admissible if it is directly related to proving an element of a claim, defense, or charge.\\n\\n3. **Relevance to malicious prosecution**:\\n   - Malicious prosecution claims often focus on the intent and credibility of the defendant.\\n   - The student's reputation for dishonesty might be directly relevant to showing that the initial complaint was maliciously false.\\n\\n4. **Admissibility based on relevance**:\\n   - Federal Rules of Evidence (FRE) and many state rules allow the introduction of character evidence if the trait is pertinent to the issue at hand. In this case, dishonesty is a core aspect of the malicious prosecution claim.\\n   - The character trait of dishonesty would be directly relevant because it pertains to the potential fabrication of the initial complaint.\\n\\nBased on these considerations, the best answer is:\\n(A) Yes, because the student's reputation for dishonesty directly relates to the tort of malicious prosecution.\\n\\nSo, the correct and best-supported answer is:\\nAAAAA\",\n",
       " 'label': 'A>B'}"
      ]
     },
     "execution_count": 40,
     "metadata": {},
     "output_type": "execute_result"
    }
   ],
   "source": [
    "print(f\"Available features: {gpt_data.features}\")\n",
    "print(\"\\nFirst data point:\")\n",
    "gpt_data[0]"
   ]
  }
 ],
 "metadata": {
  "kernelspec": {
   "display_name": "base",
   "language": "python",
   "name": "python3"
  },
  "language_info": {
   "codemirror_mode": {
    "name": "ipython",
    "version": 3
   },
   "file_extension": ".py",
   "mimetype": "text/x-python",
   "name": "python",
   "nbconvert_exporter": "python",
   "pygments_lexer": "ipython3",
   "version": "3.11.10"
  }
 },
 "nbformat": 4,
 "nbformat_minor": 2
}
