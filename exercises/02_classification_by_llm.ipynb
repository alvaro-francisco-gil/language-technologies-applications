{
  "cells": [
    {
      "cell_type": "markdown",
      "metadata": {},
      "source": [
        "# Question-Answer Validation: Large Language Model"
      ]
    },
    {
      "cell_type": "markdown",
      "metadata": {},
      "source": [
        "[![Open in Colab](https://colab.research.google.com/assets/colab-badge.svg)](https://github.com/alvaro-francisco-gil/language-technologies-applications/blob/main/exercises/02_classification_by_llm.ipynb) \n",
        "[![View on GitHub](https://img.shields.io/badge/Open%20on-GitHub-blue?logo=github)](https://github.com/alvaro-francisco-gil/language-technologies-applications/blob/main/exercises/02_classification_by_llm.ipynb)\n",
        "\n"
      ]
    },
    {
      "cell_type": "markdown",
      "metadata": {},
      "source": [
        "The task of this experiment is to measure how much of the truthfulness of a question-answer pair can be inferred using both machine learning and deep learning approaches"
      ]
    },
    {
      "cell_type": "markdown",
      "metadata": {},
      "source": [
        "## Imports"
      ]
    },
    {
      "cell_type": "markdown",
      "metadata": {},
      "source": [
        "If you are running this notebook in Google Colab, you can install the required packages by running the following cell:\n"
      ]
    },
    {
      "cell_type": "code",
      "execution_count": 2,
      "metadata": {},
      "outputs": [],
      "source": [
        "# !pip install torch pandas numpy seaborn matplotlib #and the rest of the packages"
      ]
    },
    {
      "cell_type": "code",
      "execution_count": null,
      "metadata": {
        "colab": {
          "base_uri": "https://localhost:8080/"
        },
        "id": "S4ld2bWB62Wm",
        "outputId": "b55083a9-4d72-4d37-d172-835a30e2b6ac"
      },
      "outputs": [
        {
          "name": "stdout",
          "output_type": "stream",
          "text": [
            "Using device: cuda\n"
          ]
        }
      ],
      "source": [
        "from datasets import load_dataset\n",
        "import openai\n",
        "import os\n",
        "import glob\n",
        "import pandas as pd\n",
        "import re\n",
        "import matplotlib.pyplot as plt\n",
        "import seaborn as sns\n",
        "import json\n",
        "import pandas as pd\n",
        "\n",
        "from dotenv import load_dotenv\n",
        "load_dotenv()\n",
        "openai_api_key = os.getenv('OPENAI_API_KEY')\n",
        "openai.api_key = openai_api_key\n",
        "\n",
        "import torch\n",
        "device = torch.device(\"cuda\" if torch.cuda.is_available() else \"cpu\")\n",
        "print(f\"Using device: {device}\")"
      ]
    },
    {
      "cell_type": "markdown",
      "metadata": {},
      "source": [
        "## Dataset Preparation"
      ]
    },
    {
      "cell_type": "code",
      "execution_count": 4,
      "metadata": {},
      "outputs": [
        {
          "name": "stdout",
          "output_type": "stream",
          "text": [
            "Available splits: dict_keys(['train', 'validation'])\n",
            "Training set size: (9427, 3)\n",
            "Validation set size: (3270, 3)\n",
            "\n",
            "Example data point:\n"
          ]
        },
        {
          "data": {
            "text/plain": [
              "{'question': 'do iran and afghanistan speak the same language',\n",
              " 'answer': True,\n",
              " 'passage': 'Persian (/ˈpɜːrʒən, -ʃən/), also known by its endonym Farsi (فارسی fārsi (fɒːɾˈsiː) ( listen)), is one of the Western Iranian languages within the Indo-Iranian branch of the Indo-European language family. It is primarily spoken in Iran, Afghanistan (officially known as Dari since 1958), and Tajikistan (officially known as Tajiki since the Soviet era), and some other regions which historically were Persianate societies and considered part of Greater Iran. It is written in the Persian alphabet, a modified variant of the Arabic script, which itself evolved from the Aramaic alphabet.'}"
            ]
          },
          "execution_count": 4,
          "metadata": {},
          "output_type": "execute_result"
        }
      ],
      "source": [
        "boolq = load_dataset(\"boolq\")\n",
        "\n",
        "print(f\"Available splits: {boolq.keys()}\")\n",
        "print(f\"Training set size: {boolq['train'].shape}\")\n",
        "print(f\"Validation set size: {boolq['validation'].shape}\")\n",
        "\n",
        "print(\"\\nExample data point:\")\n",
        "boolq[\"train\"][0]"
      ]
    },
    {
      "cell_type": "markdown",
      "metadata": {},
      "source": [
        "For this task, we chose the dataset boolq, which is a dataset of boolean questions and answers. As our aim is not directly answering the question, but evaluating wether the answer of a question is correct, we first need to transform the dataset into a question-answer format. For this, we divide each datapoint into two, the correct question-answer pair and the incorrect one."
      ]
    },
    {
      "cell_type": "code",
      "execution_count": 5,
      "metadata": {},
      "outputs": [
        {
          "name": "stdout",
          "output_type": "stream",
          "text": [
            "Training examples:\n",
            "{'text': \"The question is 'do iran and afghanistan speak the same language' and the answer is 'True'\", 'label': 'correct'}\n",
            "{'text': \"The question is 'do iran and afghanistan speak the same language' and the answer is 'False'\", 'label': 'incorrect'}\n",
            "\n",
            "Validation examples:\n",
            "{'text': \"The question is 'does ethanol take more energy make that produces' and the answer is 'False'\", 'label': 'correct'}\n",
            "{'text': \"The question is 'does ethanol take more energy make that produces' and the answer is 'True'\", 'label': 'incorrect'}\n"
          ]
        }
      ],
      "source": [
        "# Create new training and validation datasets with correct and incorrect question-answer pairs\n",
        "new_train_data = []\n",
        "new_validation_data = []\n",
        "\n",
        "# Process training data\n",
        "for example in boolq[\"train\"]:\n",
        "    # Create correct pair\n",
        "    correct_pair = {\n",
        "        \"text\": f\"The question is '{example['question']}' and the answer is '{example['answer']}'\",\n",
        "        \"label\": \"correct\"\n",
        "    }\n",
        "    new_train_data.append(correct_pair)\n",
        "    \n",
        "    # Create incorrect pair\n",
        "    incorrect_pair = {\n",
        "        \"text\": f\"The question is '{example['question']}' and the answer is '{not example['answer']}'\",\n",
        "        \"label\": \"incorrect\"\n",
        "    }\n",
        "    new_train_data.append(incorrect_pair)\n",
        "\n",
        "# Process validation data\n",
        "for example in boolq[\"validation\"]:\n",
        "    # Create correct pair\n",
        "    correct_pair = {\n",
        "        \"text\": f\"The question is '{example['question']}' and the answer is '{example['answer']}'\",\n",
        "        \"label\": \"correct\"\n",
        "    }\n",
        "    new_validation_data.append(correct_pair)\n",
        "    \n",
        "    # Create incorrect pair\n",
        "    incorrect_pair = {\n",
        "        \"text\": f\"The question is '{example['question']}' and the answer is '{not example['answer']}'\",\n",
        "        \"label\": \"incorrect\"\n",
        "    }\n",
        "    new_validation_data.append(incorrect_pair)\n",
        "\n",
        "print(\"Training examples:\")\n",
        "print(new_train_data[0])\n",
        "print(new_train_data[1])\n",
        "print(\"\\nValidation examples:\")\n",
        "print(new_validation_data[0])\n",
        "print(new_validation_data[1])"
      ]
    },
    {
      "cell_type": "code",
      "execution_count": 6,
      "metadata": {},
      "outputs": [
        {
          "data": {
            "text/plain": [
              "18854"
            ]
          },
          "execution_count": 6,
          "metadata": {},
          "output_type": "execute_result"
        }
      ],
      "source": [
        "len(new_train_data)"
      ]
    },
    {
      "cell_type": "markdown",
      "metadata": {},
      "source": [
        "By composition, the dataset will be perfectly balanced, with 50% of the data being correct and 50% being incorrect."
      ]
    },
    {
      "cell_type": "markdown",
      "metadata": {},
      "source": [
        "Separate x and y"
      ]
    },
    {
      "cell_type": "code",
      "execution_count": 7,
      "metadata": {},
      "outputs": [
        {
          "name": "stdout",
          "output_type": "stream",
          "text": [
            "The question is 'do iran and afghanistan speak the same language' and the answer is 'True'\n",
            "correct\n"
          ]
        }
      ],
      "source": [
        "X_train = [example['text'] for example in new_train_data]\n",
        "y_train = [example['label'] for example in new_train_data]\n",
        "\n",
        "X_validation = [example['text'] for example in new_validation_data]\n",
        "y_validation = [example['label'] for example in new_validation_data]\n",
        "\n",
        "print(X_train[0])\n",
        "print(y_train[0])\n"
      ]
    },
    {
      "cell_type": "markdown",
      "metadata": {},
      "source": [
        "## Answer Capabilities Evaluation"
      ]
    },
    {
      "cell_type": "code",
      "execution_count": 14,
      "metadata": {},
      "outputs": [],
      "source": [
        "import random\n",
        "from openai import OpenAI\n",
        "import time\n",
        "from pathlib import Path\n",
        "import json\n",
        "\n",
        "def evaluate_boolq_llm(\n",
        "    test_data, \n",
        "    model_name=\"gpt-4\", \n",
        "    use_passage=False, \n",
        "    results_dir=\"results\", \n",
        "    timeout=60.0\n",
        "):\n",
        "    \"\"\"\n",
        "    Evaluate BoolQ by asking the LLM to answer the question, optionally with passage as context.\n",
        "    Args:\n",
        "        test_data: List of dicts with 'question', 'answer', and 'passage'\n",
        "        model_name: LLM model name\n",
        "        use_passage: If True, include passage in the prompt\n",
        "        results_dir: Where to save results\n",
        "        timeout: API timeout\n",
        "    \"\"\"\n",
        "    client = OpenAI(timeout=timeout)\n",
        "    Path(results_dir).mkdir(parents=True, exist_ok=True)\n",
        "    results = {\n",
        "        \"model\": model_name,\n",
        "        \"task\": \"answering-boolq\",\n",
        "        \"use_passage\": use_passage,\n",
        "        \"total_examples\": len(test_data),\n",
        "        \"predictions\": [],\n",
        "        \"metadata\": {\n",
        "            \"timestamp\": time.strftime(\"%Y-%m-%d %H:%M:%S\"),\n",
        "            \"timeout\": timeout\n",
        "        }\n",
        "    }\n",
        "    for i, ex in enumerate(test_data):\n",
        "        if use_passage:\n",
        "            prompt = (\n",
        "                \"You are given a passage and a question. Answer the question with 'True' or 'False'.\\n\\n\"\n",
        "                f\"Passage: {ex['passage']}\\n\"\n",
        "                f\"Question: {ex['question']}\\n\"\n",
        "                \"Answer:\"\n",
        "            )\n",
        "        else:\n",
        "            prompt = (\n",
        "                \"You are given a question. Answer with 'True' or 'False'.\\n\\n\"\n",
        "                f\"Question: {ex['question']}\\n\"\n",
        "                \"Answer:\"\n",
        "            )\n",
        "        try:\n",
        "            response = client.chat.completions.create(\n",
        "                model=model_name,\n",
        "                messages=[\n",
        "                    {\"role\": \"system\", \"content\": \"You are a helpful assistant that answers questions.\"},\n",
        "                    {\"role\": \"user\", \"content\": prompt}\n",
        "                ],\n",
        "                temperature=0\n",
        "            )\n",
        "            answer = response.choices[0].message.content.strip()\n",
        "            results[\"predictions\"].append({\n",
        "                \"example_id\": i,\n",
        "                \"question\": ex[\"question\"],\n",
        "                \"passage\": ex[\"passage\"] if use_passage else None,\n",
        "                \"ground_truth\": ex[\"answer\"],\n",
        "                \"prediction\": answer\n",
        "            })\n",
        "            # Save every 10 examples\n",
        "            if (i + 1) % 10 == 0:\n",
        "                with open(f\"{results_dir}/boolq_eval_{model_name}_{'withpassage' if use_passage else 'nopassage'}.json\", \"w\") as f:\n",
        "                    json.dump(results, f, indent=2)\n",
        "        except Exception as e:\n",
        "            print(f\"Error on example {i}: {e}\")\n",
        "            results[\"predictions\"].append({\n",
        "                \"example_id\": i,\n",
        "                \"error\": str(e)\n",
        "            })\n",
        "    # Save final results\n",
        "    with open(f\"{results_dir}/boolq_eval_{model_name}_{'withpassage' if use_passage else 'nopassage'}.json\", \"w\") as f:\n",
        "        json.dump(results, f, indent=2)\n",
        "    return results"
      ]
    },
    {
      "cell_type": "code",
      "execution_count": 17,
      "metadata": {},
      "outputs": [],
      "source": [
        "test_data = [dict(q) for q in boolq[\"validation\"]]\n",
        "test_data = test_data[:10]"
      ]
    },
    {
      "cell_type": "code",
      "execution_count": 15,
      "metadata": {},
      "outputs": [],
      "source": [
        "# With passage\n",
        "results_with_passage = evaluate_boolq_llm(\n",
        "    test_data=test_data,\n",
        "    model_name=\"gpt-4o-mini\",\n",
        "    use_passage=True\n",
        ")"
      ]
    },
    {
      "cell_type": "code",
      "execution_count": 16,
      "metadata": {},
      "outputs": [],
      "source": [
        "# Without passage\n",
        "results_no_passage = evaluate_boolq_llm(\n",
        "    test_data=test_data,\n",
        "    model_name=\"gpt-4o-mini\",\n",
        "    use_passage=False\n",
        ")"
      ]
    },
    {
      "cell_type": "markdown",
      "metadata": {},
      "source": [
        "## Grading Capabilities Evaluation"
      ]
    },
    {
      "cell_type": "code",
      "execution_count": 33,
      "metadata": {},
      "outputs": [],
      "source": [
        "import time\n",
        "from pathlib import Path\n",
        "import json\n",
        "from openai import OpenAI\n",
        "from typing import List, Dict, Any\n",
        "\n",
        "def evaluate_qa_pair_judgment_llm(\n",
        "    test_data: List[Dict[str, Any]],\n",
        "    model_name: str = \"gpt-4o-mini\",\n",
        "    use_context: bool = False,  # Not used, but kept for compatibility\n",
        "    results_dir: str = \"results\",\n",
        "    timeout: float = 900.0\n",
        ") -> Dict[str, Any]:\n",
        "    \"\"\"\n",
        "    Evaluate LLM's ability to judge if a question-answer pair is correct.\n",
        "    Args:\n",
        "        test_data: List of dicts with 'text' (e.g., \"The question is ... and the answer is ...\") and 'label' (\"correct\"/\"incorrect\")\n",
        "        model_name: LLM model name\n",
        "        use_context: (ignored, for compatibility)\n",
        "        results_dir: Where to save results\n",
        "        timeout: API timeout\n",
        "    \"\"\"\n",
        "    client = OpenAI(timeout=timeout)\n",
        "    Path(results_dir).mkdir(parents=True, exist_ok=True)\n",
        "    results = {\n",
        "        \"model\": model_name,\n",
        "        \"task\": \"grading-boolq\",\n",
        "        \"use_context\": use_context,\n",
        "        \"total_examples\": len(test_data),\n",
        "        \"predictions\": [],\n",
        "        \"metadata\": {\n",
        "            \"timestamp\": time.strftime(\"%Y-%m-%d %H:%M:%S\"),\n",
        "            \"timeout\": timeout\n",
        "        }\n",
        "    }\n",
        "    for i, ex in enumerate(test_data):\n",
        "        prompt = (\n",
        "            \"You are given a question and an answer. \"\n",
        "            \"Evaluate if the answer is correct for the question. \"\n",
        "            \"Respond with {\\\"answer\\\": \\\"correct\\\"} or {\\\"answer\\\": \\\"incorrect\\\"}.\\n\\n\"\n",
        "            f\"{ex['text']}\\n\"\n",
        "        )\n",
        "        try:\n",
        "            response = client.chat.completions.create(\n",
        "                model=model_name,\n",
        "                messages=[\n",
        "                    {\"role\": \"system\", \"content\": \"You are a helpful assistant that evaluates if answers to questions are correct.\"},\n",
        "                    {\"role\": \"user\", \"content\": prompt}\n",
        "                ],\n",
        "                temperature=0\n",
        "            )\n",
        "            prediction = response.choices[0].message.content.strip()\n",
        "            results[\"predictions\"].append({\n",
        "                \"example_id\": i,\n",
        "                \"text\": ex[\"text\"],\n",
        "                \"ground_truth\": ex[\"label\"],\n",
        "                \"prediction\": prediction\n",
        "            })\n",
        "            # Save every 10 examples\n",
        "            if (i + 1) % 10 == 0:\n",
        "                with open(f\"{results_dir}/grading_boolq_{model_name}.json\", \"w\") as f:\n",
        "                    json.dump(results, f, indent=2)\n",
        "        except Exception as e:\n",
        "            print(f\"Error on example {i}: {e}\")\n",
        "            results[\"predictions\"].append({\n",
        "                \"example_id\": i,\n",
        "                \"error\": str(e)\n",
        "            })\n",
        "    # Save final results\n",
        "    context_suffix = \"_with_context\" if use_context else \"\"\n",
        "    with open(f\"{results_dir}/grading_boolq_{model_name}{context_suffix}.json\", \"w\") as f:\n",
        "        json.dump(results, f, indent=2)\n",
        "    return results"
      ]
    },
    {
      "cell_type": "code",
      "execution_count": 34,
      "metadata": {},
      "outputs": [],
      "source": [
        "test_data = [\n",
        "    {\"text\": x, \"label\": y}\n",
        "    for x, y in zip(X_validation, y_validation)\n",
        "]\n",
        "\n",
        "test_data[0]\n",
        "test_data = test_data[:10]"
      ]
    },
    {
      "cell_type": "code",
      "execution_count": 35,
      "metadata": {},
      "outputs": [],
      "source": [
        "results = evaluate_qa_pair_judgment_llm(\n",
        "    test_data=test_data,\n",
        "    model_name=\"gpt-4o-mini\",\n",
        "    use_context=False\n",
        ")"
      ]
    },
    {
      "cell_type": "code",
      "execution_count": 23,
      "metadata": {},
      "outputs": [],
      "source": [
        "results = evaluate_qa_pair_judgment_llm(\n",
        "    test_data=test_data,\n",
        "    model_name=\"gpt-4o-mini\",\n",
        "    use_context=True\n",
        ")"
      ]
    },
    {
      "cell_type": "markdown",
      "metadata": {},
      "source": [
        "## Results"
      ]
    },
    {
      "cell_type": "code",
      "execution_count": 45,
      "metadata": {},
      "outputs": [],
      "source": [
        "result_files = glob.glob(\"results/*.json\")\n",
        "all_results = []\n",
        "\n",
        "for file in result_files:\n",
        "    with open(file, \"r\") as f:\n",
        "        results = json.load(f)\n",
        "        # Infer task if missing\n",
        "        task = results.get(\"task\")\n",
        "        if not task:\n",
        "            # Heuristic: if predictions are True/False, it's answering-boolq\n",
        "            first_pred = results[\"predictions\"][0].get(\"prediction\", \"\")\n",
        "            if isinstance(first_pred, str) and (first_pred.strip().lower() in [\"true\", \"false\", \"'true'\", \"'false'\", '\"true\"', '\"false\"']):\n",
        "                task = \"answering-boolq\"\n",
        "            else:\n",
        "                task = \"grading-boolq\"\n",
        "        # Infer use_passage if missing\n",
        "        use_passage = results.get(\"use_passage\", results.get(\"use_context\"))\n",
        "        if use_passage is None:\n",
        "            # Try to infer from filename\n",
        "            if \"nopassage\" in file:\n",
        "                use_passage = False\n",
        "            elif \"withpassage\" in file:\n",
        "                use_passage = True\n",
        "            else:\n",
        "                # Fallback: check if 'passage' is present in predictions\n",
        "                use_passage = any(\"passage\" in pred and pred[\"passage\"] for pred in results[\"predictions\"])\n",
        "        for pred in results[\"predictions\"]:\n",
        "            pred[\"model\"] = results.get(\"model\")\n",
        "            pred[\"task\"] = task\n",
        "            pred[\"use_passage\"] = use_passage\n",
        "        all_results.extend(results[\"predictions\"])\n",
        "\n",
        "df = pd.DataFrame(all_results)"
      ]
    },
    {
      "cell_type": "code",
      "execution_count": 46,
      "metadata": {},
      "outputs": [
        {
          "data": {
            "text/html": [
              "<div>\n",
              "<style scoped>\n",
              "    .dataframe tbody tr th:only-of-type {\n",
              "        vertical-align: middle;\n",
              "    }\n",
              "\n",
              "    .dataframe tbody tr th {\n",
              "        vertical-align: top;\n",
              "    }\n",
              "\n",
              "    .dataframe thead th {\n",
              "        text-align: right;\n",
              "    }\n",
              "</style>\n",
              "<table border=\"1\" class=\"dataframe\">\n",
              "  <thead>\n",
              "    <tr style=\"text-align: right;\">\n",
              "      <th></th>\n",
              "      <th>task</th>\n",
              "      <th>use_passage</th>\n",
              "      <th>accuracy</th>\n",
              "    </tr>\n",
              "  </thead>\n",
              "  <tbody>\n",
              "    <tr>\n",
              "      <th>0</th>\n",
              "      <td>answering-boolq</td>\n",
              "      <td>False</td>\n",
              "      <td>80.0</td>\n",
              "    </tr>\n",
              "    <tr>\n",
              "      <th>1</th>\n",
              "      <td>answering-boolq</td>\n",
              "      <td>True</td>\n",
              "      <td>100.0</td>\n",
              "    </tr>\n",
              "    <tr>\n",
              "      <th>2</th>\n",
              "      <td>grading-boolq</td>\n",
              "      <td>False</td>\n",
              "      <td>80.0</td>\n",
              "    </tr>\n",
              "    <tr>\n",
              "      <th>3</th>\n",
              "      <td>grading-boolq</td>\n",
              "      <td>True</td>\n",
              "      <td>90.0</td>\n",
              "    </tr>\n",
              "  </tbody>\n",
              "</table>\n",
              "</div>"
            ],
            "text/plain": [
              "              task  use_passage  accuracy\n",
              "0  answering-boolq        False      80.0\n",
              "1  answering-boolq         True     100.0\n",
              "2    grading-boolq        False      80.0\n",
              "3    grading-boolq         True      90.0"
            ]
          },
          "metadata": {},
          "output_type": "display_data"
        }
      ],
      "source": [
        "# For answering-boolq (model answers True/False)\n",
        "def normalize_answer(ans):\n",
        "    if isinstance(ans, str):\n",
        "        ans = ans.strip().lower()\n",
        "        if ans in [\"true\", \"'true'\", '\"true\"']:\n",
        "            return True\n",
        "        if ans in [\"false\", \"'false'\", '\"false\"']:\n",
        "            return False\n",
        "    if isinstance(ans, bool):\n",
        "        return ans\n",
        "    return None\n",
        "\n",
        "# For grading-boolq (model outputs {\"answer\": \"correct\"} or {\"answer\": \"incorrect\"})\n",
        "def extract_grading_label(pred):\n",
        "    if isinstance(pred, str):\n",
        "        m = re.search(r'\"answer\"\\s*:\\s*\"?(correct|incorrect)\"?', pred, re.IGNORECASE)\n",
        "        if m:\n",
        "            return m.group(1).lower()\n",
        "    return None\n",
        "\n",
        "# Prepare DataFrames for each task\n",
        "df_answering = df[df[\"task\"] == \"answering-boolq\"].copy()\n",
        "df_answering[\"prediction_norm\"] = df_answering[\"prediction\"].apply(normalize_answer)\n",
        "df_answering[\"ground_truth_norm\"] = df_answering[\"ground_truth\"].apply(\n",
        "    lambda x: x if isinstance(x, bool) else (x.lower() == \"true\")\n",
        ")\n",
        "\n",
        "df_grading = df[df[\"task\"] == \"grading-boolq\"].copy()\n",
        "df_grading[\"prediction_norm\"] = df_grading[\"prediction\"].apply(extract_grading_label)\n",
        "df_grading[\"ground_truth_norm\"] = df_grading[\"ground_truth\"].str.lower()\n",
        "\n",
        "summary = []\n",
        "for task, d in [(\"answering-boolq\", df_answering), (\"grading-boolq\", df_grading)]:\n",
        "    for context, group in d.groupby(\"use_passage\"):\n",
        "        acc = (group[\"prediction_norm\"] == group[\"ground_truth_norm\"]).mean() * 100\n",
        "        summary.append({\"task\": task, \"use_passage\": context, \"accuracy\": acc})\n",
        "summary_df = pd.DataFrame(summary)\n",
        "display(summary_df)"
      ]
    },
    {
      "cell_type": "code",
      "execution_count": 49,
      "metadata": {},
      "outputs": [
        {
          "data": {
            "image/png": "[encoded data removed]",
            "text/plain": [
              "<Figure size 800x500 with 1 Axes>"
            ]
          },
          "metadata": {},
          "output_type": "display_data"
        }
      ],
      "source": [
        "plt.figure(figsize=(8, 5))\n",
        "ax = sns.barplot(\n",
        "    data=summary_df,\n",
        "    x=\"task\",\n",
        "    y=\"accuracy\",\n",
        "    hue=\"use_passage\",\n",
        "    palette=\"Set2\"\n",
        ")\n",
        "plt.title(\"LLM Accuracy by Task and Context\")\n",
        "plt.ylabel(\"Accuracy (%)\")\n",
        "plt.xlabel(\"Task\")\n",
        "plt.legend(title=\"With Passage Context\")\n",
        "plt.ylim(0, 100)\n",
        "\n",
        "# Add percentage labels on top of bars\n",
        "for p in ax.patches:\n",
        "    height = p.get_height()\n",
        "    ax.text(p.get_x() + p.get_width()/2., height + 1,\n",
        "            f'{height:.1f}%',\n",
        "            ha=\"center\", va=\"bottom\")\n",
        "\n",
        "plt.tight_layout()\n",
        "plt.show()"
      ]
    },
    {
      "cell_type": "code",
      "execution_count": 50,
      "metadata": {},
      "outputs": [
        {
          "data": {
            "image/png": "[encoded data removed]",
            "text/plain": [
              "<Figure size 800x500 with 1 Axes>"
            ]
          },
          "metadata": {},
          "output_type": "display_data"
        }
      ],
      "source": [
        "plt.figure(figsize=(8, 5))\n",
        "ax = sns.barplot(\n",
        "    data=summary_df,\n",
        "    x=\"use_passage\",\n",
        "    y=\"accuracy\",\n",
        "    hue=\"task\",\n",
        "    palette=\"Set1\"\n",
        ")\n",
        "plt.title(\"LLM Accuracy by Context and Task\")\n",
        "plt.ylabel(\"Accuracy (%)\")\n",
        "plt.xlabel(\"With Passage Context\")\n",
        "plt.legend(title=\"Task\")\n",
        "plt.ylim(0, 100)\n",
        "\n",
        "# Add percentage labels on top of bars\n",
        "for p in ax.patches:\n",
        "    height = p.get_height()\n",
        "    ax.text(p.get_x() + p.get_width()/2., height + 1,\n",
        "            f'{height:.1f}%',\n",
        "            ha=\"center\", va=\"bottom\")\n",
        "\n",
        "plt.tight_layout()\n",
        "plt.show()"
      ]
    },
    {
      "cell_type": "markdown",
      "metadata": {},
      "source": [
        "Thanks for reading the code, connect with me on [LinkedIn](https://www.linkedin.com/in/alvaro-francisco-gil/) or [GitHub](https://github.com/alvaro-francisco-gil) if you have any questions or comments.\n",
        "\n",
        "*Álvaro Francisco Gil*"
      ]
    }
  ],
  "metadata": {
    "colab": {
      "provenance": []
    },
    "kernelspec": {
      "display_name": "base",
      "language": "python",
      "name": "python3"
    },
    "language_info": {
      "codemirror_mode": {
        "name": "ipython",
        "version": 3
      },
      "file_extension": ".py",
      "mimetype": "text/x-python",
      "name": "python",
      "nbconvert_exporter": "python",
      "pygments_lexer": "ipython3",
      "version": "3.11.10"
    }
  },
  "nbformat": 4,
  "nbformat_minor": 0
}
